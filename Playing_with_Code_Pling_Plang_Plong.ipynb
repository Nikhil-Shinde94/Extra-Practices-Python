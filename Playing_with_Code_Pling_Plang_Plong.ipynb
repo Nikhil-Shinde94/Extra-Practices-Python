{
  "nbformat": 4,
  "nbformat_minor": 0,
  "metadata": {
    "colab": {
      "name": "exercism_Raindrops.ipynb",
      "provenance": [],
      "collapsed_sections": []
    },
    "kernelspec": {
      "name": "python3",
      "display_name": "Python 3"
    }
  },
  "cells": [
    {
      "cell_type": "markdown",
      "metadata": {
        "id": "hPXUyQj1w9Bs",
        "colab_type": "text"
      },
      "source": [
        "function for Pling Plang and Plong, if Satisfiest the Condition. Code Game Play"
      ]
    },
    {
      "cell_type": "code",
      "metadata": {
        "id": "E81rPZfHlCkN",
        "colab_type": "code",
        "colab": {
          "base_uri": "https://localhost:8080/",
          "height": 51
        },
        "outputId": "a6041515-b1ce-4212-8c19-f6b59d90e43e"
      },
      "source": [
        "def covert(num):\n",
        "\n",
        "  if num % 3 == 0:\n",
        "    return \"Pling\"\n",
        "  if num % 5 == 0:\n",
        "    return \"Plang\"\n",
        "  if num % 7 == 0:\n",
        "    return \"Plong\"\n",
        "  else:\n",
        "    return str(num)\n",
        "num = int(input(\"Enter Number:\"))\n",
        "covert(num)"
      ],
      "execution_count": null,
      "outputs": [
        {
          "output_type": "stream",
          "text": [
            "Enter Number:55\n"
          ],
          "name": "stdout"
        },
        {
          "output_type": "execute_result",
          "data": {
            "text/plain": [
              "'Plang'"
            ]
          },
          "metadata": {
            "tags": []
          },
          "execution_count": 15
        }
      ]
    }
  ]
}