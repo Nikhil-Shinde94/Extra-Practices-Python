{
  "nbformat": 4,
  "nbformat_minor": 0,
  "metadata": {
    "colab": {
      "name": "exercism_twofer.ipynb",
      "provenance": [],
      "collapsed_sections": []
    },
    "kernelspec": {
      "name": "python3",
      "display_name": "Python 3"
    }
  },
  "cells": [
    {
      "cell_type": "markdown",
      "metadata": {
        "id": "cPjk09PkxiSC",
        "colab_type": "text"
      },
      "source": [
        "Writing a simple function for how to use `.format` into it"
      ]
    },
    {
      "cell_type": "code",
      "metadata": {
        "id": "nuXVIQx0eKyH",
        "colab_type": "code",
        "colab": {
          "base_uri": "https://localhost:8080/",
          "height": 51
        },
        "outputId": "8a648235-c4a6-442b-a943-4bdcb5ee2450"
      },
      "source": [
        "def two_fer(name):\n",
        "  return 'one for {}, one for me'.format(name)\n",
        "\n",
        "a = str(input(\"Enter Name:\"))\n",
        "two_fer(a)"
      ],
      "execution_count": null,
      "outputs": [
        {
          "output_type": "stream",
          "text": [
            "Enter Name:nikhil\n"
          ],
          "name": "stdout"
        },
        {
          "output_type": "execute_result",
          "data": {
            "text/plain": [
              "'one for nikhil, one for me'"
            ]
          },
          "metadata": {
            "tags": []
          },
          "execution_count": 27
        }
      ]
    }
  ]
}