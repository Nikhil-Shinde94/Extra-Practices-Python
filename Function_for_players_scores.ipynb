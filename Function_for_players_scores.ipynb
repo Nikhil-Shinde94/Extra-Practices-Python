{
  "nbformat": 4,
  "nbformat_minor": 0,
  "metadata": {
    "colab": {
      "name": "exercism_players_scores.ipynb",
      "provenance": [],
      "collapsed_sections": []
    },
    "kernelspec": {
      "name": "python3",
      "display_name": "Python 3"
    }
  },
  "cells": [
    {
      "cell_type": "markdown",
      "metadata": {
        "id": "XfAHjDFHwJl3",
        "colab_type": "text"
      },
      "source": [
        "# writing function for highest, latest, top 3 scores of a match"
      ]
    },
    {
      "cell_type": "code",
      "metadata": {
        "id": "6ZHafL9cvqoc",
        "colab_type": "code",
        "colab": {
          "base_uri": "https://localhost:8080/",
          "height": 68
        },
        "outputId": "962d5cb4-ff42-4bea-b95a-ca83a319546d"
      },
      "source": [
        "def highest(scores):\n",
        "  return max(scores)\n",
        "\n",
        "def latest(scores):\n",
        "  return scores[-1]\n",
        "\n",
        "def three_high(scores):\n",
        "  return sorted((scores), reverse=True)[:3] # Sorted function will sort the list into descending order \n",
        "                                              #as we have have kept reverse = true, and pass the first 3 values from the descending order list\n",
        "\n",
        "list1 = [1,2,3,11,14,15,20,28,75,26]\n",
        "print(\"The highest Score is :\",highest(list1))\n",
        "print(\"The latest Score is :\",latest(list1))\n",
        "print(\"The Top 3 Scores are :\",three_high(list1))"
      ],
      "execution_count": null,
      "outputs": [
        {
          "output_type": "stream",
          "text": [
            "The highest Score is : 75\n",
            "The latest Score is : 26\n",
            "The Top 3 Scores are : [75, 28, 26]\n"
          ],
          "name": "stdout"
        }
      ]
    }
  ]
}