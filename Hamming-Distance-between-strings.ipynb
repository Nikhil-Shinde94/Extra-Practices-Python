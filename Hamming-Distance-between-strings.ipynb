{
  "nbformat": 4,
  "nbformat_minor": 0,
  "metadata": {
    "colab": {
      "name": "exercism_Hamming.ipynb",
      "provenance": [],
      "collapsed_sections": []
    },
    "kernelspec": {
      "name": "python3",
      "display_name": "Python 3"
    }
  },
  "cells": [
    {
      "cell_type": "markdown",
      "metadata": {
        "id": "k5WFv2uhvmwk",
        "colab_type": "text"
      },
      "source": [
        "The Hamming distance between two equal-length strings of symbols is the number of positions at which the corresponding symbols are different"
      ]
    },
    {
      "cell_type": "code",
      "metadata": {
        "id": "z6AO-kVQBc_L",
        "colab_type": "code",
        "colab": {
          "base_uri": "https://localhost:8080/",
          "height": 72
        },
        "outputId": "e77bc1ee-7717-4124-d057-149f3dc3cbf0"
      },
      "source": [
        "def hamming(string1, string2):\n",
        "  distance = 0\n",
        "  L = len(string1)\n",
        "  for i in range(L):\n",
        "    if string1[i] != string2[i]:\n",
        "      distance += 1\n",
        "  return distance\n",
        "\n",
        "a = str(input(\"Enter string1 :\"))\n",
        "b = str(input(\"Enter string2 :\"))\n",
        "\n",
        "print(\"The hamming distance is\", hamming(a,b))"
      ],
      "execution_count": 10,
      "outputs": [
        {
          "output_type": "stream",
          "text": [
            "Enter string1 :123456\n",
            "Enter string2 :122456\n",
            "The hamming distance is 1\n"
          ],
          "name": "stdout"
        }
      ]
    }
  ]
}